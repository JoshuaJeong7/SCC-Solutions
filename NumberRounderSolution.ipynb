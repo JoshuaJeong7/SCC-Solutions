{
  "nbformat": 4,
  "nbformat_minor": 0,
  "metadata": {
    "colab": {
      "provenance": [],
      "authorship_tag": "ABX9TyOwbQkh343ZaXC4J72vUuTb",
      "include_colab_link": true
    },
    "kernelspec": {
      "name": "python3",
      "display_name": "Python 3"
    },
    "language_info": {
      "name": "python"
    }
  },
  "cells": [
    {
      "cell_type": "markdown",
      "metadata": {
        "id": "view-in-github",
        "colab_type": "text"
      },
      "source": [
        "<a href=\"https://colab.research.google.com/github/JoshuaJeong7/SCC-Solutions/blob/main/NumberRounderSolution.ipynb\" target=\"_parent\"><img src=\"https://colab.research.google.com/assets/colab-badge.svg\" alt=\"Open In Colab\"/></a>"
      ]
    },
    {
      "cell_type": "code",
      "execution_count": null,
      "metadata": {
        "colab": {
          "base_uri": "https://localhost:8080/"
        },
        "id": "xJUIN7hU_TP-",
        "outputId": "dcfb3e01-3fd1-4df7-9263-32840596f100"
      },
      "outputs": [
        {
          "output_type": "stream",
          "name": "stdout",
          "text": [
            "Enter a decimal digit (float) to round to the nearest whole digit: 3.14159\n",
            "Enter a digit to round to (0 indicates whole digit, 1 indicates 0.5, 2 indicates 0.05, etc): 2\n",
            "3.0\n",
            "3.14\n"
          ]
        }
      ],
      "source": [
        "userInput = float(input(\"Enter a decimal digit (float) to round to the nearest whole digit: \"))\n",
        "operator = 0\n",
        "#extension\n",
        "operator = int(input(\"Enter a digit to round to (0 indicates whole digit, 1 indicates 0.5, 2 indicates 0.05, etc): \"))\n",
        "\n",
        "roundedDigit = ((userInput * 10) + 5) // 10\n",
        "newExtension = userInput + (5 * 10 ** (-operator - 1))\n",
        "decimals = (newExtension * 10 ** operator // 1 ) / (10 ** operator)\n",
        "\n",
        "print(roundedDigit)\n",
        "print(decimals)"
      ]
    },
    {
      "cell_type": "code",
      "source": [],
      "metadata": {
        "id": "0fq0yQ0BALoU"
      },
      "execution_count": null,
      "outputs": []
    }
  ]
}